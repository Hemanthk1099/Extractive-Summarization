{
 "cells": [
  {
   "cell_type": "code",
   "execution_count": 1,
   "metadata": {},
   "outputs": [],
   "source": [
    "import numpy as np\n",
    "import pandas as pd\n",
    "from nltk import sent_tokenize"
   ]
  },
  {
   "cell_type": "code",
   "execution_count": 25,
   "metadata": {},
   "outputs": [],
   "source": [
    "text = \"\"\"Chronobiology might sound a little futuristic – like something from a science fiction novel, perhaps – but it’s actually a field of study that concerns one of the oldest processes life on this planet has ever known: short-term rhythms of time and their effect on flora and fauna.\n",
    "\n",
    "This can take many forms. Marine life, for example, is influenced by tidal patterns. Animals tend to be active or inactive depending on the position of the sun or moon. Numerous creatures, humans included, are largely diurnal – that is, they like to come out during the hours of sunlight. Nocturnal animals, such as bats and possums, prefer to forage by night. A third group are known as crepuscular: they thrive in the low-light of dawn and dusk and remain inactive at other hours.\n",
    "\n",
    "When it comes to humans, chronobiologists are interested in what is known as the circadian rhythm. This is the complete cycle our bodies are naturally geared to undergo within the passage of a twenty-four hour day. Aside from sleeping at night and waking during the day, each cycle involves many other factors such as changes in blood pressure and body temperature. Not everyone has an identical circadian rhythm. ‘Night people’, for example, often describe how they find it very hard to operate during the morning, but become alert and focused by evening. This is a benign variation within circadian rhythms known as a chronotype.\n",
    "\n",
    "Scientists have limited abilities to create durable modifications of chronobiological demands. Recent therapeutic developments for humans such as artificial light machines and melatonin administration can reset our circadian rhythms, for example, but our bodies can tell the difference and health suffers when we breach these natural rhythms for extended periods of time. Plants appear no more malleable in this respect; studies demonstrate that vegetables grown in season and ripened on the tree are far higher in essential nutrients than those grown in greenhouses and ripened by laser.\n",
    "\n",
    "Knowledge of chronobiological patterns can have many pragmatic implications for our day-to-day lives. While contemporary living can sometimes appear to subjugate biology – after all, who needs circadian rhythms when we have caffeine pills, energy drinks, shift work and cities that never sleep? – keeping in synch with our body clock is important. \n",
    "\n",
    "The average urban resident, for example, rouses at the eye-blearing time of 6.04 a.m., which researchers believe to be far too early. One study found that even rising at 7.00 a.m. has deleterious effects on health unless exercise is performed for 30 minutes afterward. The optimum moment has been whittled down to 7.22 a.m.; muscle aches, headaches and moodiness were reported to be lowest by participants in the study who awoke then.\n",
    "\n",
    "Once you’re up and ready to go, what then? If you’re trying to shed some extra pounds, dieticians are adamant: never skip breakfast. This disorients your circadian rhythm and puts your body in starvation mode. The recommended course of action is to follow an intense workout with a carbohydrate-rich breakfast; the other way round and weight loss results are not as pronounced.\n",
    "\n",
    "Morning is also great for breaking out the vitamins. Supplement absorption by the body is not temporal-dependent, but naturopath Pam Stone notes that the extra boost at breakfast helps us get energised for the day ahead. For improved absorption, Stone suggests pairing supplements with a food in which they are soluble and steering clear of caffeinated beverages. Finally, Stone warns to take care with storage; high potency is best for absorption, and warmth and humidity are known to deplete the potency of a supplement.\n",
    "\n",
    "After-dinner espressos are becoming more of a tradition – we have the Italians to thank for that – but to prepare for a good night’s sleep we are better off putting the brakes on caffeine consumption as early as 3 p.m. With a seven hour half-life, a cup of coffee containing 90 mg of caffeine taken at this hour could still leave 45 mg of caffeine in your nervous system at ten o’clock that evening. It is essential that, by the time you are ready to sleep, your body is rid of all traces.\n",
    "\n",
    "Evenings are important for winding down before sleep; however, dietician Geraldine Georgeou warns that an after-five carbohydrate-fast is more cultural myth than chronobiological demand. This will deprive your body of vital energy needs. Overloading your gut could lead to indigestion, though. Our digestive tracts do not shut down for the night entirely, but their work slows to a crawl as our bodies prepare for sleep. Consuming a modest snack should be entirely sufficient.\"\"\""
   ]
  },
  {
   "cell_type": "code",
   "execution_count": 58,
   "metadata": {},
   "outputs": [],
   "source": [
    "x = sent_tokenize(text)"
   ]
  },
  {
   "cell_type": "code",
   "execution_count": 27,
   "metadata": {},
   "outputs": [
    {
     "data": {
      "text/plain": [
       "37"
      ]
     },
     "execution_count": 27,
     "metadata": {},
     "output_type": "execute_result"
    }
   ],
   "source": [
    "len(x)"
   ]
  },
  {
   "cell_type": "code",
   "execution_count": 28,
   "metadata": {},
   "outputs": [],
   "source": [
    "from nltk.corpus import stopwords\n",
    "from keras.preprocessing.text import Tokenizer\n",
    "stop_words = stopwords.words('English')\n",
    "\n",
    "from nltk.stem.porter import *\n",
    "porter_stemmer = PorterStemmer()"
   ]
  },
  {
   "cell_type": "code",
   "execution_count": 59,
   "metadata": {},
   "outputs": [
    {
     "data": {
      "text/plain": [
       "['chronobiology might sound little futuristic – like something science fiction novel, perhaps – it’s actually field study concerns one oldest processes life planet ever known: short-term rhythms time effect flora fauna.',\n",
       " 'take many forms.',\n",
       " 'marine life, example, influenced tidal patterns.',\n",
       " 'animals tend active inactive depending position sun moon.',\n",
       " 'numerous creatures, humans included, largely diurnal – is, like come hours sunlight.',\n",
       " 'nocturnal animals, bats possums, prefer forage night.',\n",
       " 'third group known crepuscular: thrive low-light dawn dusk remain inactive hours.',\n",
       " 'comes humans, chronobiologists interested known circadian rhythm.',\n",
       " 'complete cycle bodies naturally geared undergo within passage twenty-four hour day.',\n",
       " 'aside sleeping night waking day, cycle involves many factors changes blood pressure body temperature.',\n",
       " 'everyone identical circadian rhythm.',\n",
       " '‘night people’, example, often describe find hard operate morning, become alert focused evening.',\n",
       " 'benign variation within circadian rhythms known chronotype.',\n",
       " 'scientists limited abilities create durable modifications chronobiological demands.',\n",
       " 'recent therapeutic developments humans artificial light machines melatonin administration reset circadian rhythms, example, bodies tell difference health suffers breach natural rhythms extended periods time.',\n",
       " 'plants appear malleable respect; studies demonstrate vegetables grown season ripened tree far higher essential nutrients grown greenhouses ripened laser.',\n",
       " 'knowledge chronobiological patterns many pragmatic implications day-to-day lives.',\n",
       " 'contemporary living sometimes appear subjugate biology – all, needs circadian rhythms caffeine pills, energy drinks, shift work cities never sleep?',\n",
       " '– keeping synch body clock important.',\n",
       " 'average urban resident, example, rouses eye-blearing time 6.04 a.m., researchers believe far early.',\n",
       " 'one study found even rising 7.00 a.m. deleterious effects health unless exercise performed 30 minutes afterward.',\n",
       " 'optimum moment whittled 7.22 a.m.; muscle aches, headaches moodiness reported lowest participants study awoke then.',\n",
       " 'you’re ready go, then?',\n",
       " 'you’re trying shed extra pounds, dieticians adamant: never skip breakfast.',\n",
       " 'disorients circadian rhythm puts body starvation mode.',\n",
       " 'recommended course action follow intense workout carbohydrate-rich breakfast; way round weight loss results pronounced.',\n",
       " 'morning also great breaking vitamins.',\n",
       " 'supplement absorption body temporal-dependent, naturopath pam stone notes extra boost breakfast helps us get energised day ahead.',\n",
       " 'improved absorption, stone suggests pairing supplements food soluble steering clear caffeinated beverages.',\n",
       " 'finally, stone warns take care storage; high potency best absorption, warmth humidity known deplete potency supplement.',\n",
       " 'after-dinner espressos becoming tradition – italians thank – prepare good night’s sleep better putting brakes caffeine consumption early 3 p.m. seven hour half-life, cup coffee containing 90 mg caffeine taken hour could still leave 45 mg caffeine nervous system ten o’clock evening.',\n",
       " 'essential that, time ready sleep, body rid traces.',\n",
       " 'evenings important winding sleep; however, dietician geraldine georgeou warns after-five carbohydrate-fast cultural myth chronobiological demand.',\n",
       " 'deprive body vital energy needs.',\n",
       " 'overloading gut could lead indigestion, though.',\n",
       " 'digestive tracts shut night entirely, work slows crawl bodies prepare sleep.',\n",
       " 'consuming modest snack entirely sufficient.']"
      ]
     },
     "execution_count": 59,
     "metadata": {},
     "output_type": "execute_result"
    }
   ],
   "source": [
    "sentences = []\n",
    "for sentence in x:\n",
    "    a = \" \".join([(word) for word in sentence.lower().split() if word not in stop_words])\n",
    "    sentences.append(a)\n",
    "sentences"
   ]
  },
  {
   "cell_type": "code",
   "execution_count": 46,
   "metadata": {},
   "outputs": [
    {
     "data": {
      "text/plain": [
       "37"
      ]
     },
     "execution_count": 46,
     "metadata": {},
     "output_type": "execute_result"
    }
   ],
   "source": [
    "len(sentences)"
   ]
  },
  {
   "cell_type": "code",
   "execution_count": 47,
   "metadata": {},
   "outputs": [],
   "source": [
    "tokenizer = Tokenizer()\n",
    "tokenizer.fit_on_texts(sentences)\n",
    "word_to_index = tokenizer.word_index\n",
    "index_to_word = tokenizer.index_word"
   ]
  },
  {
   "cell_type": "code",
   "execution_count": 48,
   "metadata": {},
   "outputs": [],
   "source": [
    "indexed_sentences = tokenizer.texts_to_sequences(sentences)"
   ]
  },
  {
   "cell_type": "code",
   "execution_count": 49,
   "metadata": {},
   "outputs": [
    {
     "data": {
      "text/plain": [
       "['– rhythms time sleep']"
      ]
     },
     "execution_count": 49,
     "metadata": {},
     "output_type": "execute_result"
    }
   ],
   "source": [
    "tokenizer.sequences_to_texts([[1, 5, 8, 7]])"
   ]
  },
  {
   "cell_type": "code",
   "execution_count": 50,
   "metadata": {},
   "outputs": [],
   "source": [
    "def inverse_document_frequency(documents):\n",
    "    no_of_documents = len(documents)\n",
    "    idf = defaultdict(int)\n",
    "    for document in documents:\n",
    "        for term in document.split():\n",
    "            idf[term] += 1\n",
    "    for term in idf.keys():\n",
    "        idf[term] = idf[term]/no_of_documents\n",
    "    return idf\n",
    "        "
   ]
  },
  {
   "cell_type": "code",
   "execution_count": 51,
   "metadata": {},
   "outputs": [],
   "source": [
    "from collections import defaultdict\n",
    "def tfidf(sentence, idf_dict):\n",
    "    sentlen = len(sentence.split())\n",
    "    word_frequency = defaultdict(int)\n",
    "    for i in sentence.split():\n",
    "        word_frequency[i] += 1\n",
    "    for i in word_frequency.keys():\n",
    "        word_frequency[i] = word_frequency[i]/sentlen\n",
    "    sent_tfidf =[]\n",
    "    for word in sentence.split():\n",
    "        sent_tfidf.append(word_frequency[word] * idf_dict[word])\n",
    "    return sent_tfidf"
   ]
  },
  {
   "cell_type": "code",
   "execution_count": 52,
   "metadata": {},
   "outputs": [
    {
     "data": {
      "text/plain": [
       "[0.0008718395815170009,\n",
       " 0.0008718395815170009,\n",
       " 0.0008718395815170009,\n",
       " 0.0008718395815170009,\n",
       " 0.0008718395815170009,\n",
       " 0.012205754141238012,\n",
       " 0.0017436791630340018,\n",
       " 0.0008718395815170009,\n",
       " 0.0008718395815170009,\n",
       " 0.0008718395815170009,\n",
       " 0.0008718395815170009,\n",
       " 0.0008718395815170009,\n",
       " 0.012205754141238012,\n",
       " 0.0008718395815170009,\n",
       " 0.0008718395815170009,\n",
       " 0.0008718395815170009,\n",
       " 0.0026155187445510027,\n",
       " 0.0008718395815170009,\n",
       " 0.0017436791630340018,\n",
       " 0.0008718395815170009,\n",
       " 0.0008718395815170009,\n",
       " 0.0008718395815170009,\n",
       " 0.0008718395815170009,\n",
       " 0.0008718395815170009,\n",
       " 0.0008718395815170009,\n",
       " 0.0008718395815170009,\n",
       " 0.0034873583260680036,\n",
       " 0.0026155187445510027,\n",
       " 0.0008718395815170009,\n",
       " 0.0008718395815170009,\n",
       " 0.0008718395815170009]"
      ]
     },
     "execution_count": 52,
     "metadata": {},
     "output_type": "execute_result"
    }
   ],
   "source": [
    "text_idf = inverse_document_frequency(sentences)\n",
    "sents_tfidf =[]\n",
    "for sentence in sentences:\n",
    "    sents_tfidf.append(tfidf(sentence,text_idf))\n",
    "sents_tfidf[0]"
   ]
  },
  {
   "cell_type": "code",
   "execution_count": 53,
   "metadata": {},
   "outputs": [],
   "source": [
    "df = pd.DataFrame(list(zip(x , sents_tfidf)) , columns = ['documents','tfidf'])"
   ]
  },
  {
   "cell_type": "code",
   "execution_count": 54,
   "metadata": {},
   "outputs": [],
   "source": [
    "from statistics import mean\n",
    "df['score'] = [mean(l) for l in list(df['tfidf'])]"
   ]
  },
  {
   "cell_type": "code",
   "execution_count": 55,
   "metadata": {},
   "outputs": [
    {
     "data": {
      "text/plain": [
       "0.005396222113665702"
      ]
     },
     "execution_count": 55,
     "metadata": {},
     "output_type": "execute_result"
    }
   ],
   "source": [
    "threshold = mean(df['score'])\n",
    "threshold"
   ]
  },
  {
   "cell_type": "code",
   "execution_count": 56,
   "metadata": {},
   "outputs": [],
   "source": [
    "summary = []\n",
    "for i in range(len(df)):\n",
    "    if df.iloc[i]['score']>=threshold*1:\n",
    "        summary.append(df.iloc[i]['documents'])\n"
   ]
  },
  {
   "cell_type": "code",
   "execution_count": 57,
   "metadata": {},
   "outputs": [
    {
     "data": {
      "text/plain": [
       "['This can take many forms.',\n",
       " 'Marine life, for example, is influenced by tidal patterns.',\n",
       " 'When it comes to humans, chronobiologists are interested in what is known as the circadian rhythm.',\n",
       " 'Not everyone has an identical circadian rhythm.',\n",
       " 'This is a benign variation within circadian rhythms known as a chronotype.',\n",
       " '– keeping in synch with our body clock is important.',\n",
       " 'Once you’re up and ready to go, what then?',\n",
       " 'This disorients your circadian rhythm and puts your body in starvation mode.',\n",
       " 'Morning is also great for breaking out the vitamins.',\n",
       " 'It is essential that, by the time you are ready to sleep, your body is rid of all traces.',\n",
       " 'This will deprive your body of vital energy needs.',\n",
       " 'Consuming a modest snack should be entirely sufficient.']"
      ]
     },
     "execution_count": 57,
     "metadata": {},
     "output_type": "execute_result"
    }
   ],
   "source": [
    "summary"
   ]
  },
  {
   "cell_type": "code",
   "execution_count": null,
   "metadata": {},
   "outputs": [],
   "source": []
  },
  {
   "cell_type": "code",
   "execution_count": null,
   "metadata": {},
   "outputs": [],
   "source": []
  }
 ],
 "metadata": {
  "kernelspec": {
   "display_name": "Python 3",
   "language": "python",
   "name": "python3"
  },
  "language_info": {
   "codemirror_mode": {
    "name": "ipython",
    "version": 3
   },
   "file_extension": ".py",
   "mimetype": "text/x-python",
   "name": "python",
   "nbconvert_exporter": "python",
   "pygments_lexer": "ipython3",
   "version": "3.6.8"
  }
 },
 "nbformat": 4,
 "nbformat_minor": 2
}
